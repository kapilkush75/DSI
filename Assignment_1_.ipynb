{
  "nbformat": 4,
  "nbformat_minor": 0,
  "metadata": {
    "colab": {
      "provenance": []
    },
    "kernelspec": {
      "name": "python3",
      "display_name": "Python 3"
    },
    "language_info": {
      "name": "python"
    }
  },
  "cells": [
    {
      "cell_type": "markdown",
      "source": [
        "Q1. Create one variable containing following type of data:\n",
        "\n",
        "(i)\tstring\n",
        "\n",
        "(ii)\tlist\n",
        "\n",
        "(iii)\tfloat\n",
        "\n",
        "(iv)\ttuple"
      ],
      "metadata": {
        "id": "rDpmdNBNIIWa"
      }
    },
    {
      "cell_type": "code",
      "execution_count": null,
      "metadata": {
        "id": "GqIJIC3jIEOL"
      },
      "outputs": [],
      "source": [
        "str = \"string\"\n",
        "lst = [\"strng1\",\"string2\",\"string3\"]\n",
        "f = 10.20\n",
        "t = (\"1\",\"2\",\"3\",\"one\",\"two\",\"three\")"
      ]
    },
    {
      "cell_type": "code",
      "source": [
        "print(\"Type of \\n str :\",type(str),\"\\n lst :\", type(lst), \"\\n f : \",type(f),\"\\n t :\",type(t))"
      ],
      "metadata": {
        "colab": {
          "base_uri": "https://localhost:8080/"
        },
        "id": "z-aInboPIgHF",
        "outputId": "29854c25-112a-406a-af16-2b20de16acdc"
      },
      "execution_count": null,
      "outputs": [
        {
          "output_type": "stream",
          "name": "stdout",
          "text": [
            "Type of \n",
            " str : <class 'str'> \n",
            " lst : <class 'list'> \n",
            " f :  <class 'float'> \n",
            " t : <class 'tuple'>\n"
          ]
        }
      ]
    },
    {
      "cell_type": "markdown",
      "source": [
        "Q2. Given are some following variables containing data:\n",
        "\n",
        "(i)\tvar1 = ‘ ‘\n",
        "\n",
        "(ii)\tvar2 = ‘[ DS , ML , Python]’\n",
        "\n",
        "(iii)\tvar3 = [ ‘DS’ , ’ML’ , ‘Python’ ]\n",
        "\n",
        "(iv)\tvar4 = 1.\n",
        "\n",
        "\n",
        "What will be the data type of the above given variable"
      ],
      "metadata": {
        "id": "-urlVuRLI6np"
      }
    },
    {
      "cell_type": "code",
      "source": [
        "var1 = ' '; print(type(var1))\n",
        "\n",
        "var2 = '[ DS , ML , Python]';print(type(var2))\n",
        "\n",
        "var3 = [ 'DS' , 'ML' , 'Python' ] ; print(type(var3))\n",
        "\n",
        "var4 = 1. ; print(type(var4))"
      ],
      "metadata": {
        "colab": {
          "base_uri": "https://localhost:8080/"
        },
        "id": "W6hrI_I8IgWe",
        "outputId": "599fe563-1b9d-48ac-a70e-c68b2d820fe5"
      },
      "execution_count": null,
      "outputs": [
        {
          "output_type": "stream",
          "name": "stdout",
          "text": [
            "<class 'str'>\n",
            "<class 'str'>\n",
            "<class 'list'>\n",
            "<class 'float'>\n"
          ]
        }
      ]
    },
    {
      "cell_type": "markdown",
      "source": [
        "Q3. Explain the use of the following operators using an example:\n",
        "\n",
        "(i)\t/\n",
        "\n",
        "(ii)\t% \n",
        "\n",
        "(iii)\t//\n",
        "\n",
        "(iv)\t*"
      ],
      "metadata": {
        "id": "1_zursk-Jdof"
      }
    },
    {
      "cell_type": "code",
      "source": [
        "a = 3 \n",
        "b = 8"
      ],
      "metadata": {
        "id": "yqKA1Sl-Jbzg"
      },
      "execution_count": null,
      "outputs": []
    },
    {
      "cell_type": "code",
      "source": [
        "c = b/a; print(\"a/b :\",c, \"division operation\")\n",
        "c = b%a ; print(\"a%b :\",c,\"perform modulus operation\")\n",
        "c = b//a; print(\"a//b :\",c,\"perform floor division, rounds result down to nearest whole number\")\n",
        "c = a*b ; print(\"a*b :\",c, \"perform multiplication\")"
      ],
      "metadata": {
        "colab": {
          "base_uri": "https://localhost:8080/"
        },
        "id": "6HYuhRzTJb_S",
        "outputId": "5b05dea3-1b63-4132-cfc0-971f95a83d08"
      },
      "execution_count": null,
      "outputs": [
        {
          "output_type": "stream",
          "name": "stdout",
          "text": [
            "a/b : 2.6666666666666665 division operation\n",
            "a%b : 2 perform modulus operation\n",
            "a//b : 2 perform floor division, rounds result down to nearest whole number\n",
            "a*b : 24 perform multiplication\n"
          ]
        }
      ]
    },
    {
      "cell_type": "markdown",
      "source": [
        "Q4. Create a list of length 10 of your choice containing multiple types of data. Using for loop print the \n",
        "element and its data type."
      ],
      "metadata": {
        "id": "yZX8gEl8LySq"
      }
    },
    {
      "cell_type": "code",
      "source": [
        "l = [\"name\",\"email\",\"address\",1,2,3,\"city\",\"state\",True,3j]\n",
        "print(\"length of list :\",len(l))\n",
        "n = 0\n",
        "for i in l:\n",
        "  print(\" list\",n,\" : \",i,\"\\t\",type(i)); n+=1"
      ],
      "metadata": {
        "colab": {
          "base_uri": "https://localhost:8080/"
        },
        "id": "BGRfQmbdJcG2",
        "outputId": "c84cdf37-6722-4dfb-e417-7ee20b4276c2"
      },
      "execution_count": null,
      "outputs": [
        {
          "output_type": "stream",
          "name": "stdout",
          "text": [
            "length of list : 10\n",
            " list 0  :  name \t <class 'str'>\n",
            " list 1  :  email \t <class 'str'>\n",
            " list 2  :  address \t <class 'str'>\n",
            " list 3  :  1 \t <class 'int'>\n",
            " list 4  :  2 \t <class 'int'>\n",
            " list 5  :  3 \t <class 'int'>\n",
            " list 6  :  city \t <class 'str'>\n",
            " list 7  :  state \t <class 'str'>\n",
            " list 8  :  True \t <class 'bool'>\n",
            " list 9  :  3j \t <class 'complex'>\n"
          ]
        }
      ]
    },
    {
      "cell_type": "markdown",
      "source": [
        "Q5. Using a while loop, verify if the number A is purely divisible by number B and if so then how many \n",
        "times it can be divisible"
      ],
      "metadata": {
        "id": "KMiMwzigNU29"
      }
    },
    {
      "cell_type": "code",
      "source": [
        "A = 101\n",
        "B = 3\n",
        "result = A//B\n",
        "n = 0\n",
        "print(\"Initial : \",\"A :\",A,\"B :\",B)\n",
        "while(result > 0):\n",
        "  print(\"div iter \",n,\"A :\",A,\"\\tB :\",B, \"\\t Remainder :\",result)\n",
        "  if (result == A):\n",
        "    break\n",
        "  A = result; result = A//B\n",
        "  n +=1"
      ],
      "metadata": {
        "id": "O4j3igN2JcOA",
        "colab": {
          "base_uri": "https://localhost:8080/"
        },
        "outputId": "9f99e57f-db90-4fe7-966b-6e2fc419577b"
      },
      "execution_count": 24,
      "outputs": [
        {
          "output_type": "stream",
          "name": "stdout",
          "text": [
            "Initial :  A : 101 B : 3\n",
            "div iter  0 A : 101 \tB : 3 \t Remainder : 33\n",
            "div iter  1 A : 33 \tB : 3 \t Remainder : 11\n",
            "div iter  2 A : 11 \tB : 3 \t Remainder : 3\n",
            "div iter  3 A : 3 \tB : 3 \t Remainder : 1\n"
          ]
        }
      ]
    },
    {
      "cell_type": "markdown",
      "source": [
        "Q6. Create a list containing 25 int type data. Using for loop and if-else condition print if the element is \n",
        "divisible by 3 or not."
      ],
      "metadata": {
        "id": "1bXZO2N1ZaBB"
      }
    },
    {
      "cell_type": "code",
      "source": [
        "l = [20,23,25,28,31,34,37,40,42,45,48,51,52,55,58,61,64,67,70,72,76,79,82,85,88]\n",
        "for n in range(len(l)):\n",
        "  if (l[n]%3 == 0):\n",
        "    print(l[n],\" is divisible by 3\")\n",
        "  else:\n",
        "    print(l[n],\" is not divisble by 3\")"
      ],
      "metadata": {
        "id": "tt8jP2bMJcT3",
        "colab": {
          "base_uri": "https://localhost:8080/"
        },
        "outputId": "ddbb2cd3-67e4-4668-af86-b272a3ee6ac5"
      },
      "execution_count": 33,
      "outputs": [
        {
          "output_type": "stream",
          "name": "stdout",
          "text": [
            "20  is not divisble by 3\n",
            "23  is not divisble by 3\n",
            "25  is not divisble by 3\n",
            "28  is not divisble by 3\n",
            "31  is not divisble by 3\n",
            "34  is not divisble by 3\n",
            "37  is not divisble by 3\n",
            "40  is not divisble by 3\n",
            "42  is divisible by 3\n",
            "45  is divisible by 3\n",
            "48  is divisible by 3\n",
            "51  is divisible by 3\n",
            "52  is not divisble by 3\n",
            "55  is not divisble by 3\n",
            "58  is not divisble by 3\n",
            "61  is not divisble by 3\n",
            "64  is not divisble by 3\n",
            "67  is not divisble by 3\n",
            "70  is not divisble by 3\n",
            "72  is divisible by 3\n",
            "76  is not divisble by 3\n",
            "79  is not divisble by 3\n",
            "82  is not divisble by 3\n",
            "85  is not divisble by 3\n",
            "88  is not divisble by 3\n"
          ]
        }
      ]
    },
    {
      "cell_type": "markdown",
      "source": [
        "Q7. What do you understand about mutable and immutable data types? Give examples for both showing \n",
        "this propert"
      ],
      "metadata": {
        "id": "BLt7LN5MaePV"
      }
    },
    {
      "cell_type": "markdown",
      "source": [
        "Mutable object allows you to modify its internal state after creation,An object that allows you to change its values without changing its identity is a mutable object. The changes that you can perform on a mutable object's value are known as mutations.Mutable Objects are of type list, dict, or set.\n",
        "\n",
        "Immutable object allows change the object's state after its created.an object that doesn't allow changes in its value is an immutable object. You have no way to perform mutations on this kind of object. Numeric types, such  int, float, bool, string, Unicode, and tuple"
      ],
      "metadata": {
        "id": "f57uXm-F7IkQ"
      }
    },
    {
      "cell_type": "code",
      "source": [
        "# tuples are immutable\n",
        "   \n",
        "tuple1 = (0, 1, 2, 3)\n",
        "tuple1[0] = 4\n",
        "print(tuple1)"
      ],
      "metadata": {
        "id": "m2CVFTZmJcZe",
        "colab": {
          "base_uri": "https://localhost:8080/",
          "height": 218
        },
        "outputId": "17fbe826-4bad-43ce-a824-baaaee397e73"
      },
      "execution_count": 1,
      "outputs": [
        {
          "output_type": "error",
          "ename": "TypeError",
          "evalue": "ignored",
          "traceback": [
            "\u001b[0;31m---------------------------------------------------------------------------\u001b[0m",
            "\u001b[0;31mTypeError\u001b[0m                                 Traceback (most recent call last)",
            "\u001b[0;32m<ipython-input-1-dfdfe76c4128>\u001b[0m in \u001b[0;36m<cell line: 4>\u001b[0;34m()\u001b[0m\n\u001b[1;32m      2\u001b[0m \u001b[0;34m\u001b[0m\u001b[0m\n\u001b[1;32m      3\u001b[0m \u001b[0mtuple1\u001b[0m \u001b[0;34m=\u001b[0m \u001b[0;34m(\u001b[0m\u001b[0;36m0\u001b[0m\u001b[0;34m,\u001b[0m \u001b[0;36m1\u001b[0m\u001b[0;34m,\u001b[0m \u001b[0;36m2\u001b[0m\u001b[0;34m,\u001b[0m \u001b[0;36m3\u001b[0m\u001b[0;34m)\u001b[0m\u001b[0;34m\u001b[0m\u001b[0;34m\u001b[0m\u001b[0m\n\u001b[0;32m----> 4\u001b[0;31m \u001b[0mtuple1\u001b[0m\u001b[0;34m[\u001b[0m\u001b[0;36m0\u001b[0m\u001b[0;34m]\u001b[0m \u001b[0;34m=\u001b[0m \u001b[0;36m4\u001b[0m\u001b[0;34m\u001b[0m\u001b[0;34m\u001b[0m\u001b[0m\n\u001b[0m\u001b[1;32m      5\u001b[0m \u001b[0mprint\u001b[0m\u001b[0;34m(\u001b[0m\u001b[0mtuple1\u001b[0m\u001b[0;34m)\u001b[0m\u001b[0;34m\u001b[0m\u001b[0;34m\u001b[0m\u001b[0m\n",
            "\u001b[0;31mTypeError\u001b[0m: 'tuple' object does not support item assignment"
          ]
        }
      ]
    },
    {
      "cell_type": "code",
      "source": [
        "# strings are immutable\n",
        " \n",
        "message = \"Welcome to GeeksforGeeks\"\n",
        "message[0] = 'p'\n",
        "print(message)"
      ],
      "metadata": {
        "id": "ork34jUYJcjJ",
        "colab": {
          "base_uri": "https://localhost:8080/",
          "height": 218
        },
        "outputId": "c129e49a-eb15-410c-9b52-88ed07bb511f"
      },
      "execution_count": 2,
      "outputs": [
        {
          "output_type": "error",
          "ename": "TypeError",
          "evalue": "ignored",
          "traceback": [
            "\u001b[0;31m---------------------------------------------------------------------------\u001b[0m",
            "\u001b[0;31mTypeError\u001b[0m                                 Traceback (most recent call last)",
            "\u001b[0;32m<ipython-input-2-900239cd875b>\u001b[0m in \u001b[0;36m<cell line: 4>\u001b[0;34m()\u001b[0m\n\u001b[1;32m      2\u001b[0m \u001b[0;34m\u001b[0m\u001b[0m\n\u001b[1;32m      3\u001b[0m \u001b[0mmessage\u001b[0m \u001b[0;34m=\u001b[0m \u001b[0;34m\"Welcome to GeeksforGeeks\"\u001b[0m\u001b[0;34m\u001b[0m\u001b[0;34m\u001b[0m\u001b[0m\n\u001b[0;32m----> 4\u001b[0;31m \u001b[0mmessage\u001b[0m\u001b[0;34m[\u001b[0m\u001b[0;36m0\u001b[0m\u001b[0;34m]\u001b[0m \u001b[0;34m=\u001b[0m \u001b[0;34m'p'\u001b[0m\u001b[0;34m\u001b[0m\u001b[0;34m\u001b[0m\u001b[0m\n\u001b[0m\u001b[1;32m      5\u001b[0m \u001b[0mprint\u001b[0m\u001b[0;34m(\u001b[0m\u001b[0mmessage\u001b[0m\u001b[0;34m)\u001b[0m\u001b[0;34m\u001b[0m\u001b[0;34m\u001b[0m\u001b[0m\n",
            "\u001b[0;31mTypeError\u001b[0m: 'str' object does not support item assignment"
          ]
        }
      ]
    },
    {
      "cell_type": "code",
      "source": [
        "# lists are mutable\n",
        "colored = [\"red\", \"blue\", \"green\"]\n",
        "print(colored)\n",
        " \n",
        "colored[0] = \"pink\"\n",
        "colored[-1] = \"orange\"\n",
        "print(colored)"
      ],
      "metadata": {
        "colab": {
          "base_uri": "https://localhost:8080/"
        },
        "id": "YUu1CCWG9tm5",
        "outputId": "45b2535e-2824-4276-b81e-46ac808db873"
      },
      "execution_count": 15,
      "outputs": [
        {
          "output_type": "stream",
          "name": "stdout",
          "text": [
            "['red', 'blue', 'green']\n",
            "['pink', 'blue', 'orange']\n"
          ]
        }
      ]
    },
    {
      "cell_type": "code",
      "source": [
        "# set are mutable\n",
        "colors = {\"red\", \"blue\", \"green\"}\n",
        "print(type(colors),colors)\n",
        " \n",
        "colors.add(\"pink\")\n",
        "colors.add(\"orange\")\n",
        "print(colors)"
      ],
      "metadata": {
        "colab": {
          "base_uri": "https://localhost:8080/"
        },
        "id": "XFi_2kWf92V3",
        "outputId": "9c04c267-b502-470b-89a3-8b9e341d251e"
      },
      "execution_count": 14,
      "outputs": [
        {
          "output_type": "stream",
          "name": "stdout",
          "text": [
            "<class 'set'> {'red', 'green', 'blue'}\n",
            "{'red', 'green', 'orange', 'pink', 'blue'}\n"
          ]
        }
      ]
    },
    {
      "cell_type": "code",
      "source": [
        "# Dict are mutable\n",
        "color = {\"red\":0, \"blue\":1, \"green\":4}\n",
        "print(type(color),color)\n",
        " \n",
        "color[\"pink\"] = 3\n",
        "color[\"red\"] = 5\n",
        "print(\"Updated Dict :\",type(color),color)"
      ],
      "metadata": {
        "colab": {
          "base_uri": "https://localhost:8080/"
        },
        "id": "sXkTg3l492dI",
        "outputId": "dffb72ff-c067-4482-d674-ff88f41cd0e9"
      },
      "execution_count": 7,
      "outputs": [
        {
          "output_type": "stream",
          "name": "stdout",
          "text": [
            "<class 'dict'> {'red': 0, 'blue': 1, 'green': 4}\n",
            "Updated Dict : <class 'dict'> {'red': 5, 'blue': 1, 'green': 4, 'pink': 3}\n"
          ]
        }
      ]
    }
  ]
}