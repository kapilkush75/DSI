{
  "nbformat": 4,
  "nbformat_minor": 0,
  "metadata": {
    "colab": {
      "provenance": [],
      "authorship_tag": "ABX9TyN9iklUMlS5+FnFn4B7XPlZ",
      "include_colab_link": true
    },
    "kernelspec": {
      "name": "python3",
      "display_name": "Python 3"
    },
    "language_info": {
      "name": "python"
    }
  },
  "cells": [
    {
      "cell_type": "markdown",
      "metadata": {
        "id": "view-in-github",
        "colab_type": "text"
      },
      "source": [
        "<a href=\"https://colab.research.google.com/github/kapilkush75/DSI/blob/main/Numpy_Assignment.ipynb\" target=\"_parent\"><img src=\"https://colab.research.google.com/assets/colab-badge.svg\" alt=\"Open In Colab\"/></a>"
      ]
    },
    {
      "cell_type": "code",
      "execution_count": 1,
      "metadata": {
        "id": "_24DozpiRDGQ"
      },
      "outputs": [],
      "source": [
        "import numpy as np"
      ]
    },
    {
      "cell_type": "markdown",
      "source": [
        "Q1. For a given numpy array, how will you change the dimensions to 5 using the\n",
        "existing parameters in the numpy array.\n",
        "my_array = numpy.array([[[[1,3,4]]]])\n",
        "\n",
        "a. numpy.array(my_array, ndim=5)\n",
        "\n",
        "b. numpy.array(my_array, ndim=1)\n",
        "\n",
        "c. numpy.array(my_array, ndmin=5)\n",
        "\n",
        "d. numpy.array(my_array, ndim= my_array.ndmin + 1)"
      ],
      "metadata": {
        "id": "b1GA0IvsTJVS"
      }
    },
    {
      "cell_type": "code",
      "source": [
        "my_array = np.array([[[[1,3,4]]]])"
      ],
      "metadata": {
        "id": "Fs_DljLwUzEP"
      },
      "execution_count": 2,
      "outputs": []
    },
    {
      "cell_type": "code",
      "source": [
        "np.array(my_array, ndmin=5)\n",
        "\n",
        "# Answer c. numpy.array(my_array, ndmin=5)"
      ],
      "metadata": {
        "colab": {
          "base_uri": "https://localhost:8080/"
        },
        "id": "hxzkDvHsUy7Y",
        "outputId": "87e9abcf-7da9-4fca-d8fd-96d923e9e1f1"
      },
      "execution_count": 4,
      "outputs": [
        {
          "output_type": "execute_result",
          "data": {
            "text/plain": [
              "array([[[[[1, 3, 4]]]]])"
            ]
          },
          "metadata": {},
          "execution_count": 4
        }
      ]
    },
    {
      "cell_type": "markdown",
      "source": [
        "Q2. For the given numpy arrays, Array1 and Array2, what will be the dot product for the\n",
        "same. Array1 = array([[1, 2, 3], [4, 5, 6]])\n",
        "Array2 = array([[2, 3],[3, 2]])\n",
        "\n",
        "a. Keyerror\n",
        "\n",
        "b. Valueerror\n",
        "\n",
        "c. array([[ -9, 6, -1],[-12, 18, -7]])\n",
        "\n",
        "d. None of the Above"
      ],
      "metadata": {
        "id": "AL903BTrTTiX"
      }
    },
    {
      "cell_type": "markdown",
      "source": [
        "Q3. In a given numpy array, using the slicing operations print the reverse of the\n",
        "array.\n",
        "array = np.array([10,3,1,203,404,204,20,302,30,402,192])\n",
        "\n",
        "a. array[-1:0]\n",
        "\n",
        "b. array1[len(array1):0]\n",
        "\n",
        "c. array[::-1]\n",
        "\n",
        "d. array1[-1:-len(array1)]"
      ],
      "metadata": {
        "id": "3SH5pKLYTYhg"
      }
    },
    {
      "cell_type": "markdown",
      "source": [
        "Q4. What is the output of the below code:\n",
        "a = [[1, 0], [0, 1]]\n",
        "b = [[4, 1], [2, 2]]\n",
        "np.dot(a, b)\n",
        "\n",
        "a. array([[1, 1], [2, 2]])\n",
        "\n",
        "b. array([[4, 1],[2, 2]])\n",
        "\n",
        "c. array([[4, 4],[2, 4]])\n",
        "\n",
        "d. None of the above"
      ],
      "metadata": {
        "id": "zoCVz9syTdJ6"
      }
    },
    {
      "cell_type": "markdown",
      "source": [
        "Q5. What is the output of the following code:\n",
        "a = np.arange(3*4*5*6).reshape((3,4,5,6))\n",
        "b = np.arange(3*4*5*6)[::-1].reshape((5,4,6,3))\n",
        "np.dot(a, b)[2,3,2,1,2,2]\n",
        "\n",
        "a. 499128\n",
        "\n",
        "b. 399118\n",
        "\n",
        "c. 909128\n",
        "\n",
        "d. Value Error"
      ],
      "metadata": {
        "id": "Czo0VulXTg5d"
      }
    },
    {
      "cell_type": "markdown",
      "source": [
        "Q6. What will be output for the following code?\n",
        "import numpy as np\n",
        "  a = np.array([3, 7, 32], dtype = complex)\n",
        "print(a)\n",
        "\n",
        "a. [ 3.+0.j 7.+0.j 32.+0.j]\n",
        "\n",
        "b. [ 3.0+0.j 7.0+0.j 32.0+0.j]\n",
        "\n",
        "c. [ 3.+0.k 7.+0.j 32.+0.l]\n",
        "\n",
        "d. Error"
      ],
      "metadata": {
        "id": "mUGeLrEhTlKl"
      }
    },
    {
      "cell_type": "markdown",
      "source": [
        "Q7. How to replace all values greater than a given value with a given cutoff? For\n",
        "example: In array ‘ar1’, replace all values greater than 30 to 30 and less than 10 to 10.\n",
        "Input:\n",
        "np.random.seed(100)\n",
        "ar1 = np.random.uniform(1,50, 20)\n",
        "\n",
        "a. np.clip(a, a_min=10, a_max=30)\n",
        "\n",
        "b. np.where(a < 10, 10, np.where(a > 30, 30, a))\n",
        "\n",
        "c. Both of the above\n",
        "\n",
        "d. None of the above"
      ],
      "metadata": {
        "id": "Td0MKB0GTsOE"
      }
    },
    {
      "cell_type": "markdown",
      "source": [
        "Q8. For a given numpy array, how are you going to insert a new value at the specified\n",
        "position? array = np.array([10,3,1,203,404,204,20,302,30,402,192])\n",
        "Elem_to_be_inserted = [1,2,3,4]\n",
        "The position to be inserted at = before 404\n",
        "\n",
        "a. numpy.insert(array2, 404, array2)\n",
        "\n",
        "b. numpy.insert(array2, np.index(404), array2)\n",
        "\n",
        "c. numpy.insert(array1, np.where(404), array2)\n",
        "\n",
        "d. numpy.insert(array1, 4, array2)"
      ],
      "metadata": {
        "id": "fyP4K9GBTzFQ"
      }
    },
    {
      "cell_type": "markdown",
      "source": [
        "Q9. Create a 3x3 matrix using numpy, and all the values of the matrix must be a constant k.\n",
        "\n",
        "a. numpy.eye(‘k’)\n",
        "\n",
        "b. numpy.random.random((3,3), ‘k’)\n",
        "\n",
        "c. numpy.full((3,3), ‘k’)\n",
        "\n",
        "d. numpy.ones(3,3)"
      ],
      "metadata": {
        "id": "SP4RfCz9T1Vg"
      }
    },
    {
      "cell_type": "markdown",
      "source": [
        "Q10. For the given python code that implements bubble sort, what will be the output for the\n",
        "given numpy array.\n",
        "def bub_sort(array):\n",
        "for i in range(0, len(array)):\n",
        "for j in range(0, len(array) - i - 1):\n",
        "if array[j] < array[j + 1]:\n",
        "temp = array[j]\n",
        "array[j] = array[j + 1]\n",
        "array[j+1] = temp\n",
        "return array\n",
        "my_array = numpy.array([20,14,25,16,45,60,12,9])\n",
        "\n",
        "a. array([ 9, 12, 14, 16, 20, 25, 45, 60])\n",
        "\n",
        "b. array([60, 45, 25, 20, 16, 14, 12, 9])\n",
        "\n",
        "c. array([60, 45, 20, 25, 16, 14, 12, 9])\n",
        "\n",
        "d. array([ 9, 12, 16, 14, 20, 25, 45, 60])"
      ],
      "metadata": {
        "id": "gxZMZ9JVT7Mq"
      }
    },
    {
      "cell_type": "markdown",
      "source": [
        "Q11. For a given numpy array of the shape (2,5) ,How will you reshape the array in the shape (5,2).\n",
        "\n",
        "a. numpy.shape(5,2)\n",
        "\n",
        "b. numpy.arange(5,2)\n",
        "\n",
        "c. numpy.reshape((2,5) == (5,2))\n",
        "\n",
        "d. numpy.reshape(5,2)"
      ],
      "metadata": {
        "id": "fojenx8_UDtt"
      }
    },
    {
      "cell_type": "markdown",
      "source": [
        "Q12. What will be the shape of the sample numpy array after flattening it?\n",
        "Sample = numpy.array([[1,2],[3,4],[5,6],[7,8]])\n",
        "\n",
        "a. array([1, 2, 3, 4, 5, 6, 7, 8])\n",
        "\n",
        "b. array([1, 2], [3, 4], [5, 6], [7, 8])\n",
        "\n",
        "c. array([1], [2], [3], [4], [5], [6], [7], [8])\n",
        "\n",
        "d. None of the above"
      ],
      "metadata": {
        "id": "4wtq9exTUJSK"
      }
    },
    {
      "cell_type": "markdown",
      "source": [
        "Q13. In the given array, how can we get the following output - array([2, 5,\n",
        "8]). Sample = numpy.array([[1,2,3],[4,5,6],[7,8,9],[10,11,12],[13,14,15]])\n",
        "\n",
        "a. array[0:3, 1]\n",
        "\n",
        "b. array[0:3][1]\n",
        "\n",
        "c. array[[0:3], [1]]\n",
        "\n",
        "d. None of the above\n"
      ],
      "metadata": {
        "id": "lWtJFx2qUL6V"
      }
    },
    {
      "cell_type": "markdown",
      "source": [
        "Q14. Given two numpy arrays, we will perform Horizontally stack the given arrays array1 and\n",
        "array2. What will be the output of the above operation? The sample arrays are as follows.\n",
        "Array1 = numpy.arange(20,2)\n",
        "Array2 = numpy.array([1,2,3,4,5,6,7,8,9,10])\n",
        "\n",
        "A. array([ 1, 3, 5, 7, 9, 11, 13, 15, 17, 19, 1, 2, 3, 4, 5, 6, 7, 8, 9, 10])\n",
        "\n",
        "B. array([[ 1, 3, 5, 7, 9, 11, 13, 15, 17, 19], [1, 2, 3, 4, 5, 6, 7, 8, 9, 10]])\n",
        "\n",
        "C. array([[ 1, 3, 5, 7, 9, 11, 13, 15, 17, 19], [1, 2, 3, 4, 5, 6, 7, 8, 9, 10]])\n",
        "\n",
        "D. None of the above"
      ],
      "metadata": {
        "id": "iMBNRd1nUQMg"
      }
    },
    {
      "cell_type": "markdown",
      "source": [
        "Q15. For the given arrays, array1 and array2, if we stack the two arrays row wise, what will be\n",
        "the output?\n",
        "array1 = np.array([[1,2],[3,4]])\n",
        "array2 = np.array([[1,2],[3,4],[5,6],[7,8],[9,10]])\n",
        "\n",
        "a. array([[ 1, 2],[ 3, 4],[ 1, 2],[ 3, 4],[ 5, 6],[ 7, 8],[ 9, 10]])\n",
        "\n",
        "b. array([[ 1, 2, 3, 4],[ 1, 2, 3, 4],[ 5, 6, 7, 8],[ 9, 10]])\n",
        "\n",
        "c. array([[ 1, 2, 3, 4, 1], [2, 3, 4, 5, 6],[ 7, 8, 9, 10]])\n",
        "\n",
        "d. None of the above"
      ],
      "metadata": {
        "id": "90SY5iOMUVZW"
      }
    },
    {
      "cell_type": "markdown",
      "source": [
        "Q16. For the given arrays, array1 and array2, if we stack the two arrays column wise, what will\n",
        "be the output?\n",
        "array1 = np.array([[1,2],[3,4]])\n",
        "array2 = np.array([[5,6],[7,8]])\n",
        "\n",
        "a. array([[1, 2, 5, 6],[3, 4, 7, 8]])\n",
        "\n",
        "b. array([[1, 2, 5, 6 ,3, 4, 7, 8]])\n",
        "\n",
        "c. array([[1, 2], [5, 6],[3, 4], [7, 8]])\n",
        "\n",
        "d. None of the above"
      ],
      "metadata": {
        "id": "d_MUOXMPUcV1"
      }
    },
    {
      "cell_type": "markdown",
      "source": [
        "Q17. Given two vectors A and B, find the cross product between the two\n",
        "vectors. A = numpy.array([[4],[12],[29]])\n",
        "B = numpy.array([[13],[21],[4]])\n",
        "\n",
        "A. array([[-561 361 -72]])\n",
        "\n",
        "B. array([[-560 360 -71]])\n",
        "\n",
        "C. array([[-555 361 -72]])\n",
        "\n",
        "D. array([[-561 360 -72]])\n"
      ],
      "metadata": {
        "id": "rcJq3_hOUfB4"
      }
    },
    {
      "cell_type": "markdown",
      "source": [
        "Q18. Given two vectors A and B, find the correlation coefficient of the following vectors.\n",
        "A = numpy.array([1,3,5,7,9,11,13,15,17,19,21,23,25])\n",
        "B = numpy.array([0,2,4,6,8,10,12,14,16,18,20, 22, 24])\n",
        "\n",
        "A. array([[1., 1.],[1., 1.]])\n",
        "\n",
        "B. array([[0., 1.],[1., 1.]])\n",
        "\n",
        "C. array([[1., 0.],[1., 1.]])\n",
        "\n",
        "D. array([[1., 1.],[0., 1.]])\n"
      ],
      "metadata": {
        "id": "wbTozaiKUkT3"
      }
    },
    {
      "cell_type": "markdown",
      "source": [
        "Q19. Create a nested numpy array from a given dictionary data.\n",
        "sample = {1: [1,2],\n",
        "2: [[1],[2]],\n",
        "3: [[1,2], [3,4], [4,5]],\n",
        "4: [1],\n",
        "5: [1,2,3,4,5]}\n",
        "\n",
        "A. array([[1, list([1, 2])], [2, list([[1], [2]])], [3, list([[1, 2], [3, 4], [4, 5]])], [4, list([1])], [5, list([1,\n",
        "2, 3, 4, 5])]], dtype=object)\n",
        "\n",
        "B. array([[1, list([1, 1])], [2, list([[1], [2]])], [3, list([[1, 2], [3, 4], [4, 5]])], [4, list([1])], [5, list([1,\n",
        "2, 3, 4, 5])]], dtype=object)\n",
        "\n",
        "C. array([[1, list([1, 2])], [2, list([[1], [2]])], [3, list([[1, 2], [1, 4], [4, 5]])], [4, list([1])], [5, list([1,\n",
        "2, 3, 4, 5])]], dtype=object)\n",
        "\n",
        "D. array([[1, list([1, 2])], [2, list([[1], [2]])], [3, list([[1, 2], [3, 4], [4, 5]])], [4, list([1])], [5, list([1,\n",
        "2, 3, 10, 5])]], dtype=object)"
      ],
      "metadata": {
        "id": "nZ3mICv2Um2k"
      }
    },
    {
      "cell_type": "markdown",
      "source": [
        "Q20. Create a 2-dimensional array with 3 rows and 3 columns containing random numbers\n",
        "from 1 to 9. Find the difference between the maximum element across the columns and the\n",
        "minimum element across the rows.\n",
        "\n",
        "A. [7 3 2]\n",
        "\n",
        "B. [7 1 2]\n",
        "\n",
        "C. [8 3 2]\n",
        "\n",
        "D. [7 3 1]"
      ],
      "metadata": {
        "id": "ZcPyojljUryO"
      }
    }
  ]
}